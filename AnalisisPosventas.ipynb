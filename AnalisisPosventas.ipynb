{
  "nbformat": 4,
  "nbformat_minor": 0,
  "metadata": {
    "colab": {
      "provenance": []
    },
    "kernelspec": {
      "name": "python3",
      "display_name": "Python 3"
    },
    "language_info": {
      "name": "python"
    }
  },
  "cells": [
    {
      "cell_type": "code",
      "source": [
        "!pip install stanza\n",
        "import pandas as pd\n",
        "import stanza\n",
        "import re\n",
        "\n",
        "\n",
        "stanza.download('es', verbose=False)\n",
        "es_nlp = stanza.Pipeline('es', processors='tokenize,lemma,pos,depparse', verbose=False)"
      ],
      "metadata": {
        "id": "cLSLtULDLbmb",
        "colab": {
          "base_uri": "https://localhost:8080/"
        },
        "outputId": "ea79e991-306a-4f6f-b64c-1f2941c5d088"
      },
      "execution_count": 3,
      "outputs": [
        {
          "output_type": "stream",
          "name": "stdout",
          "text": [
            "Looking in indexes: https://pypi.org/simple, https://us-python.pkg.dev/colab-wheels/public/simple/\n",
            "Collecting stanza\n",
            "  Downloading stanza-1.4.2-py3-none-any.whl (691 kB)\n",
            "\u001b[2K     \u001b[90m━━━━━━━━━━━━━━━━━━━━━━━━━━━━━━━━━━━━━━\u001b[0m \u001b[32m691.3/691.3 KB\u001b[0m \u001b[31m19.1 MB/s\u001b[0m eta \u001b[36m0:00:00\u001b[0m\n",
            "\u001b[?25hRequirement already satisfied: protobuf in /usr/local/lib/python3.8/dist-packages (from stanza) (3.19.6)\n",
            "Requirement already satisfied: torch>=1.3.0 in /usr/local/lib/python3.8/dist-packages (from stanza) (1.13.1+cu116)\n",
            "Requirement already satisfied: tqdm in /usr/local/lib/python3.8/dist-packages (from stanza) (4.64.1)\n",
            "Requirement already satisfied: numpy in /usr/local/lib/python3.8/dist-packages (from stanza) (1.21.6)\n",
            "Requirement already satisfied: requests in /usr/local/lib/python3.8/dist-packages (from stanza) (2.25.1)\n",
            "Collecting emoji\n",
            "  Downloading emoji-2.2.0.tar.gz (240 kB)\n",
            "\u001b[2K     \u001b[90m━━━━━━━━━━━━━━━━━━━━━━━━━━━━━━━━━━━━━━\u001b[0m \u001b[32m240.9/240.9 KB\u001b[0m \u001b[31m29.8 MB/s\u001b[0m eta \u001b[36m0:00:00\u001b[0m\n",
            "\u001b[?25h  Preparing metadata (setup.py) ... \u001b[?25l\u001b[?25hdone\n",
            "Requirement already satisfied: six in /usr/local/lib/python3.8/dist-packages (from stanza) (1.15.0)\n",
            "Requirement already satisfied: typing-extensions in /usr/local/lib/python3.8/dist-packages (from torch>=1.3.0->stanza) (4.4.0)\n",
            "Requirement already satisfied: chardet<5,>=3.0.2 in /usr/local/lib/python3.8/dist-packages (from requests->stanza) (4.0.0)\n",
            "Requirement already satisfied: idna<3,>=2.5 in /usr/local/lib/python3.8/dist-packages (from requests->stanza) (2.10)\n",
            "Requirement already satisfied: certifi>=2017.4.17 in /usr/local/lib/python3.8/dist-packages (from requests->stanza) (2022.12.7)\n",
            "Requirement already satisfied: urllib3<1.27,>=1.21.1 in /usr/local/lib/python3.8/dist-packages (from requests->stanza) (1.24.3)\n",
            "Building wheels for collected packages: emoji\n",
            "  Building wheel for emoji (setup.py) ... \u001b[?25l\u001b[?25hdone\n",
            "  Created wheel for emoji: filename=emoji-2.2.0-py3-none-any.whl size=234926 sha256=3371e41bb598c70bc961df9f069fd57675be0527e0eb33514e95c1bc878a8152\n",
            "  Stored in directory: /root/.cache/pip/wheels/86/62/9e/a6b27a681abcde69970dbc0326ff51955f3beac72f15696984\n",
            "Successfully built emoji\n",
            "Installing collected packages: emoji, stanza\n",
            "Successfully installed emoji-2.2.0 stanza-1.4.2\n"
          ]
        }
      ]
    },
    {
      "cell_type": "markdown",
      "source": [
        "*PROGRAMA* Limpiar el data frame y completar los Nan"
      ],
      "metadata": {
        "id": "hc0WL7BxNCWd"
      }
    },
    {
      "cell_type": "code",
      "source": [
        "df = pd.read_csv('/content/drive/MyDrive/ATENCION_POSTVENTAS.csv')\n",
        "df.drop(['Section/Column','Start Date', 'Due Date',\n",
        "       'Blocked By (Dependencies)', 'Blocking (Dependencies)',\n",
        "       'Revisión garantía', 'Recibidos', 'Parent Task', 'Assignee',\n",
        "       'Assignee Email', 'Name', 'Tags', 'Projects', 'Fecha',\n",
        "       'Dirección correo','Satisfacción', 'Foto de trabajo realizado.'],\n",
        "        axis=1, inplace=True)\n",
        "\n",
        "df = df[df['Notes'].notna()]\n",
        "df.reset_index(drop=True, inplace=True)\n",
        "\n",
        "percent_missing = df.isnull().sum() * 100 / len(df)\n",
        "print(percent_missing)\n",
        "print(df.index)\n",
        "\n"
      ],
      "metadata": {
        "colab": {
          "base_uri": "https://localhost:8080/"
        },
        "id": "5ayu_ffBNByF",
        "outputId": "cbcb6947-921e-43ab-d404-ae6c5e757182"
      },
      "execution_count": null,
      "outputs": [
        {
          "output_type": "stream",
          "name": "stdout",
          "text": [
            "Task ID           0.000000\n",
            "Created At        0.000000\n",
            "Completed At      1.773050\n",
            "Last Modified     0.000000\n",
            "Notes             0.000000\n",
            "Nombre           47.163121\n",
            "Casa             47.163121\n",
            "Proyecto         47.163121\n",
            "Manzana          72.695035\n",
            "Télefono         57.446809\n",
            "Solicitud 1      81.560284\n",
            "Solicitud 2      90.425532\n",
            "Solicitud 3      95.744681\n",
            "Solicitud 4      97.163121\n",
            "dtype: float64\n",
            "RangeIndex(start=0, stop=282, step=1)\n"
          ]
        }
      ]
    },
    {
      "cell_type": "markdown",
      "source": [
        "Usa esto para encontrar las palabras que se necesitan para homogeinizar la información."
      ],
      "metadata": {
        "id": "WzhycSuvyT93"
      }
    },
    {
      "cell_type": "code",
      "source": [
        "# This part would be re writed in julia (coming soon)\n",
        "from collections import Counter\n",
        "\n",
        "list_to_set = []\n",
        "data_proc = (df['Notes'].apply(lambda x: x.split('\\n')))\n",
        "for note in data_proc:\n",
        "    for word in note:\n",
        "        list_to_set.append(word)\n",
        "\n",
        "Counter = Counter(list_to_set)\n",
        "print(Counter.most_common(20))"
      ],
      "metadata": {
        "colab": {
          "base_uri": "https://localhost:8080/"
        },
        "id": "QJKuUi_myRVQ",
        "outputId": "15954ce5-c631-49e6-82aa-b823b7cfab37"
      },
      "execution_count": null,
      "outputs": [
        {
          "output_type": "stream",
          "name": "stdout",
          "text": [
            "[('', 2376), ('Nombre:', 281), ('Dirección de email:', 281), ('———————————————', 281), ('Numero de contacto:', 276), ('Proyecto:', 276), ('Solicitud 1:', 276), ('This task was submitted through SOLICITUD DE POSTVENTAS Y GARANTIAS ', 276), ('https://form.asana.com/?k=NUy_diulYpY4CoQVB7TU4A&d=937223421497983', 265), ('Armonía', 218), ('Fecha de solicitud:', 152), ('Dirección:', 150), ('Solicitud 2:', 133), ('Manzana::', 130), ('Número de casa::', 126), ('Fecha de solicitud::', 122), ('Solicitud 3:', 62), ('Fortaleza', 43), ('Solicitud 4:', 33), ('6', 19)]\n"
          ]
        }
      ]
    },
    {
      "cell_type": "markdown",
      "source": [
        "De la información anterior tenemos que existe algunas que tienen la dirección unida y otras que tienen la dirección separada. Para este caso lo mejor será dividir la dirección que está unida. Pues es importante las variables manzana y también casa."
      ],
      "metadata": {
        "id": "6rKkEbhFMOyu"
      }
    },
    {
      "cell_type": "markdown",
      "source": [
        "Usa esto para probar los modelos de rellenar datos, antes de utilizarlos en la base de datos"
      ],
      "metadata": {
        "id": "yJd2Sy5mTfIY"
      }
    },
    {
      "cell_type": "code",
      "source": [
        "n = 0\n",
        "prob = df['Notes'].iloc[n]\n",
        "print(df['Notes'].iloc[n])"
      ],
      "metadata": {
        "colab": {
          "base_uri": "https://localhost:8080/"
        },
        "id": "U2FdEehlidzR",
        "outputId": "fd0184d4-c0c9-4269-d4f2-b70003ef0ba4"
      },
      "execution_count": null,
      "outputs": [
        {
          "output_type": "stream",
          "name": "stdout",
          "text": [
            "Nombre:\n",
            "Hedlyn Antonio castrillon García\n",
            "\n",
            "Dirección de email:\n",
            "cas.trillon@hotmail.com\n",
            "\n",
            "Numero de contacto:\n",
            "3135025994\n",
            "\n",
            "Proyecto:\n",
            "Cassia\n",
            "\n",
            "Número de casa::\n",
            "32\n",
            "\n",
            "Manzana::\n",
            "1\n",
            "\n",
            "Fecha de solicitud::\n",
            "Jan 30, 2023\n",
            "\n",
            "Solicitud 1:\n",
            "El agua no sube al segundo piso\n",
            "\n",
            "\n",
            "Solicitud 2:\n",
            "Yesos caídos en paredes \n",
            "\n",
            "\n",
            "Solicitud 3:\n",
            "Tubería del lava platos mal estado con fuga\n",
            "\n",
            "———————————————\n",
            "This task was submitted through SOLICITUD DE POSTVENTAS Y GARANTIAS \n",
            "https://form.asana.com/?k=NUy_diulYpY4CoQVB7TU4A&d=937223421497983\n"
          ]
        }
      ]
    },
    {
      "cell_type": "markdown",
      "source": [
        "Para rellenar la información faltante de casas y manzana C:"
      ],
      "metadata": {
        "id": "-DwToJcwTKAO"
      }
    },
    {
      "cell_type": "code",
      "source": [
        "import re\n",
        "\n",
        "def wow(note, regx, regx_b):    \n",
        "    if regx != '(^c.*sa$|^k.*sa$)' and regx != '(^mz$|^m.*z.*a$|^maz$)':\n",
        "        try:\n",
        "            note = note.split('\\n')\n",
        "            note = [part.lower().replace(':', '') for part in note]\n",
        "            search = list(re.match(regx, part) for part in note)\n",
        "            bol_index = [True if part != None else False for part in search].index(True)\n",
        "            return note[bol_index + 1]\n",
        "        except:\n",
        "            print(note)\n",
        "\n",
        "    else:\n",
        "        note = note.split()\n",
        "        note = [part.lower().replace(':', '') for part in note]\n",
        "        try:   \n",
        "            search = list(re.match(regx, part) for part in note)\n",
        "            bol_index = [True if part != None else False for part in search].index(True)\n",
        "\n",
        "            # when client put redundant info\n",
        "            if re.match(regx, note[bol_index + 1]) != None:\n",
        "                return note[bol_index + 2] \n",
        "\n",
        "        # when client invert comon inputs... but spicify the mistake\n",
        "            elif re.match(regx_b, note[bol_index + 1]) != None:\n",
        "                search = list(re.match(regx, part) for part in note)\n",
        "                bol_index = [True if part != None else False for part in search].index(True, bol_index + 1)\n",
        "                return note[bol_index + 1] \n",
        "            else:\n",
        "                return note[bol_index + 1]\n",
        "\n",
        "        except: # this clients surpass me! XD\n",
        "            return 'Necesario buscar en la base de datos'\n",
        "\n",
        "print('block:')\n",
        "print(wow(prob, '(^mz$|^m.*z.*a$|^maz$)', '(^c.*sa$|^k.*sa$)'))\n",
        "print('house:')\n",
        "print(wow(prob, '(^c.*sa$|^k.*sa$)', '(^mz$|^m.*z.*a$|^maz$)'))\n",
        "print('name:')\n",
        "print(wow(prob, 'nombre', 'asdfasdg'))\n",
        "print('email')\n",
        "print(wow(prob, '.*email', 'asdfas'))\n",
        "print('phone:')\n",
        "print(wow(prob, '.*contacto', 'asdfasdf'))\n",
        "print('project:')\n",
        "print(wow(prob, '.*proyecto', 'asdfasdf'))"
      ],
      "metadata": {
        "colab": {
          "base_uri": "https://localhost:8080/"
        },
        "id": "6kjTfuR6kdM3",
        "outputId": "63a1d0e4-8c87-4ec3-bc0b-2a94d89853bf"
      },
      "execution_count": null,
      "outputs": [
        {
          "output_type": "stream",
          "name": "stdout",
          "text": [
            "block:\n",
            "1\n",
            "house:\n",
            "32\n",
            "name:\n",
            "hedlyn antonio castrillon garcía\n",
            "email\n",
            "cas.trillon@hotmail.com\n",
            "phone:\n",
            "3135025994\n",
            "project:\n",
            "cassia\n"
          ]
        }
      ]
    },
    {
      "cell_type": "code",
      "source": [
        "import collections\n",
        "# This is very slow, it would be changed in the future to julia\n",
        "\n",
        "def warr(note):\n",
        "    list_words = []\n",
        "    note = note.lower().replace(':', '')\n",
        "    start = 'solicitud 1'\n",
        "    end = '———————————————'\n",
        "    name_ = note[note.find(start):note.rfind(end)]\n",
        "    namex = es_nlp(name_)\n",
        "    for sentence in namex.sentences:\n",
        "        for token in sentence.tokens:\n",
        "            for word in token.words:\n",
        "                if word.upos in ['NOUN', 'ADJ', 'VBD'] and word.text != 'solicitud':\n",
        "                   list_words.append(word.lemma)\n",
        "    list_words = ' ,'.join(set(list_words))\n",
        "    return pd.Series([name_.replace('\\n', ' '), list_words])\n",
        "\n",
        "warr(prob)"
      ],
      "metadata": {
        "colab": {
          "base_uri": "https://localhost:8080/"
        },
        "id": "XE6aqUeRUOTf",
        "outputId": "cc183e21-11d7-4e6c-b163-bed8260d786c"
      },
      "execution_count": null,
      "outputs": [
        {
          "output_type": "execute_result",
          "data": {
            "text/plain": [
              "0    solicitud 1 el agua no sube al segundo piso   ...\n",
              "1    mal ,piso ,yeso ,plato ,pared ,segundo ,lava ,...\n",
              "dtype: object"
            ]
          },
          "metadata": {},
          "execution_count": 168
        }
      ]
    },
    {
      "cell_type": "code",
      "source": [
        "df['name'] = df['Notes'].apply(lambda x: wow(x, 'nombre', 'asdfasdg'))\n",
        "df['email'] = df['Notes'].apply(lambda x: wow(x, '.*email', 'asdfasdg'))\n",
        "df['phone'] = df['Notes'].apply(lambda x: wow(x, '.*contacto', 'asdfasdf'))\n",
        "df['project'] = df['Notes'].apply(lambda x: wow(x, '.*proyecto', 'asdfasdf'))\n",
        "df['house'] = df['Notes'].apply(lambda x: wow(x, '(^c.*sa$|^k.*sa$)', '(^mz$|^m.*z.*a$|^maz$)'))\n",
        "df['block'] = df['Notes'].apply(lambda x: wow(x, '(^mz$|^m.*z.*a$|^maz$)', '(^c.*sa$|^k.*sa$)'))\n",
        "df[['warranty issues', 'key words']]=df['Notes'].apply(warr)"
      ],
      "metadata": {
        "colab": {
          "base_uri": "https://localhost:8080/"
        },
        "id": "rPkwa88fZHt2",
        "outputId": "219a8a24-9fc6-495b-aa3a-12624223ca75"
      },
      "execution_count": null,
      "outputs": [
        {
          "output_type": "stream",
          "name": "stdout",
          "text": [
            "['el cliente manifiesta haber dejado la llave de la ducha en la noche abierta el agua reboso el nivel de la ducha y se filtro a habitación y placa de la sala ', '- se realizará sondeo de sifón de ducha para descartar taponamientos ']\n",
            "['el cliente manifiesta haber dejado la llave de la ducha en la noche abierta el agua reboso el nivel de la ducha y se filtro a habitación y placa de la sala ', '- se realizará sondeo de sifón de ducha para descartar taponamientos ']\n",
            "['nombre', 'armando enrique miranda pertuz ', '', 'dirección de email', 'armandoenriquemirandapertuz@gmail.com ', '', 'número de teléfono', '3006339717', '', 'proyecto', 'armonía', '', 'casa', '8', '', 'manzana', '4', '', 'recibido de trabajo 1', 'si rebido', '', '¿qué tan satisfecho está con la garantía prestada?', 'satisfecho', '', 'algún otro comentario', 'mejoramiento el servio de agua tengo problemas en ese asunto ', '', '———————————————', 'this task was submitted through satisfacción de postventa.', 'https//form.asana.com/?k=clcykhpwbkwfqhfeyiuqva&d=937223421497983']\n",
            "['nombre', 'karol angulo', '', 'dirección de email', 'anakin2021@gmail.com ', '', 'número de teléfono', '3122075533', '', 'proyecto', 'armonía', '', 'casa', '6', '', 'manzana', '3', '', 'recibido de trabajo 1', 'enchufe de lavadora activo ', '', 'recibido de trabajo 2', 'ventana revestida con silicona ok', '', '¿qué tan satisfecho está con la garantía prestada?', 'satisfecho', '', 'algún otro comentario', 'quedaron pendiente 2 arreglos una dilatación en el baño y el inodoro principal no llena y tiene mucho olor a cifon ', '', '———————————————', 'this task was submitted through satisfacción de postventa.', 'https//form.asana.com/?k=clcykhpwbkwfqhfeyiuqva&d=937223421497983']\n",
            "['el cliente manifiesta haber dejado la llave de la ducha en la noche abierta el agua reboso el nivel de la ducha y se filtro a habitación y placa de la sala ', '- se realizará sondeo de sifón de ducha para descartar taponamientos ']\n",
            "['el cliente manifiesta haber dejado la llave de la ducha en la noche abierta el agua reboso el nivel de la ducha y se filtro a habitación y placa de la sala ', '- se realizará sondeo de sifón de ducha para descartar taponamientos ']\n"
          ]
        }
      ]
    },
    {
      "cell_type": "code",
      "source": [
        "percent_missing = df.isnull().sum() * 100 / len(df)\n",
        "print(percent_missing)\n",
        "print(df.index)"
      ],
      "metadata": {
        "colab": {
          "base_uri": "https://localhost:8080/"
        },
        "id": "5iyIRDxMGRNw",
        "outputId": "3f83511a-6eae-4e6a-c9d6-3bfcd4af3cd9"
      },
      "execution_count": null,
      "outputs": [
        {
          "output_type": "stream",
          "name": "stdout",
          "text": [
            "Task ID             0.000000\n",
            "Created At          0.000000\n",
            "Completed At        1.773050\n",
            "Last Modified       0.000000\n",
            "Notes               0.000000\n",
            "Nombre             47.163121\n",
            "Casa               47.163121\n",
            "Proyecto           47.163121\n",
            "Manzana            72.695035\n",
            "Télefono           57.446809\n",
            "Solicitud 1        81.560284\n",
            "Solicitud 2        90.425532\n",
            "Solicitud 3        95.744681\n",
            "Solicitud 4        97.163121\n",
            "name                0.354610\n",
            "email               0.354610\n",
            "phone               1.063830\n",
            "project             0.354610\n",
            "house               0.000000\n",
            "block               0.000000\n",
            "warranty issues     0.000000\n",
            "key words           0.000000\n",
            "dtype: float64\n",
            "RangeIndex(start=0, stop=282, step=1)\n"
          ]
        }
      ]
    },
    {
      "cell_type": "code",
      "source": [
        "df = df[['Task ID','Created At', 'Last Modified', 'project', 'block', 'house', 'name', 'email', 'phone', 'warranty issues', 'key words']]\n",
        "df = df.dropna(axis=0)\n",
        "percent_missing = df.isnull().sum() * 100 / len(df)\n",
        "print(percent_missing)\n",
        "print(df.index)"
      ],
      "metadata": {
        "colab": {
          "base_uri": "https://localhost:8080/"
        },
        "id": "7r2aqgGuGiOn",
        "outputId": "27d09e78-9254-43a8-8490-1c70169a33af"
      },
      "execution_count": null,
      "outputs": [
        {
          "output_type": "stream",
          "name": "stdout",
          "text": [
            "Task ID            0.0\n",
            "Created At         0.0\n",
            "Last Modified      0.0\n",
            "project            0.0\n",
            "block              0.0\n",
            "house              0.0\n",
            "name               0.0\n",
            "email              0.0\n",
            "phone              0.0\n",
            "warranty issues    0.0\n",
            "key words          0.0\n",
            "dtype: float64\n",
            "Int64Index([  0,   1,   2,   3,   4,   5,   6,   9,  10,  11,\n",
            "            ...\n",
            "            272, 273, 274, 275, 276, 277, 278, 279, 280, 281],\n",
            "           dtype='int64', length=279)\n"
          ]
        }
      ]
    },
    {
      "cell_type": "code",
      "source": [
        "# CHECKPOINT the data is not raw anymore, but still need some proccessing\n",
        "#df.to_csv('posventas_procesado.csv')\n",
        "#df.to_excel('posventas_procesado.xlsx')\n",
        "\n",
        "dfp = pd.read_csv('/content/drive/MyDrive/posventas_procesado.csv')\n",
        "print(dfp)"
      ],
      "metadata": {
        "colab": {
          "base_uri": "https://localhost:8080/"
        },
        "id": "c-eb4KqUcP4T",
        "outputId": "cd0ad9ab-8c45-4153-ff75-550dd8e55e53"
      },
      "execution_count": 4,
      "outputs": [
        {
          "output_type": "stream",
          "name": "stdout",
          "text": [
            "     Unnamed: 0  Unnamed: 0.1           Task ID  Created At Last Modified  \\\n",
            "0             0             0  1203859132730413  2023-01-30    2023-02-02   \n",
            "1             1             1  1203827119997540  2023-01-25    2023-02-02   \n",
            "2             2             2  1203823671025556  2023-01-24    2023-02-01   \n",
            "3             3             3  1203713756246383  2023-01-12    2023-01-23   \n",
            "4             4             4  1203695543348748  2023-01-10    2023-01-23   \n",
            "..          ...           ...               ...         ...           ...   \n",
            "274         274           277  1201002776765269  2021-09-16    2021-09-24   \n",
            "275         275           278  1200915414083089  2021-09-03    2021-09-17   \n",
            "276         276           279  1200830708641915  2021-08-21    2021-09-17   \n",
            "277         277           280  1200788935337311  2021-08-15    2021-08-26   \n",
            "278         278           281  1200788789910526  2021-08-15    2021-08-26   \n",
            "\n",
            "        project block  house                              name  \\\n",
            "0        cassia     1   32.0  hedlyn antonio castrillon garcía   \n",
            "1        cassia     1    8.0          maría isabel añez lemus    \n",
            "2        cassia     1    8.0           maría isabel añez lemus   \n",
            "3        cassia     1   26.0                 fernando jiménez    \n",
            "4        cassia     1    8.0                       maria lemus   \n",
            "..          ...   ...    ...                               ...   \n",
            "274  guayacanes     d    7.0     sergio andrés polanco giraldo   \n",
            "275  guayacanes     c    7.0   jorge eliecer rincones villazón   \n",
            "276  guayacanes     d   10.0      ledys yulieth manzano rincón   \n",
            "277  guayacanes     b   21.0                      gene rincón    \n",
            "278  guayacanes     b   22.0                      oscar gómez    \n",
            "\n",
            "                          email       phone  \\\n",
            "0       cas.trillon@hotmail.com  3135025994   \n",
            "1     marilemus0414@outlook.com  3128332281   \n",
            "2     marilemus0414@outlook.com  3128332281   \n",
            "3    elizabeth_10jr@hotmail.com  3135640424   \n",
            "4     marilemus0414@outlook.com  3128332281   \n",
            "..                          ...         ...   \n",
            "274    zpolanco-lds@hotmail.com  3176986828   \n",
            "275  jorge.rincones25@gmail.com  3006672667   \n",
            "276      ledismrincon@gmail.com  3046160857   \n",
            "277         gries07@hotmail.com  3114317786   \n",
            "278      l-ore-2604@hotmail.com  3132150656   \n",
            "\n",
            "                                       warranty issues  \\\n",
            "0    solicitud 1 el agua no sube al segundo piso   ...   \n",
            "1    solicitud 1 fuga en  el tubo que desciende  en...   \n",
            "2    solicitud 1 la puerta del cuarto de abajo tien...   \n",
            "3    solicitud 1 encendedor \" escalera\"  solicitud ...   \n",
            "4    solicitud 1 el plafón hizo corto, solicito rev...   \n",
            "..                                                 ...   \n",
            "274  solicitud 1 filtración de agua en la viga de l...   \n",
            "275  solicitud 1 gotera en el baño de la habitación...   \n",
            "276  solicitud 1 problemas de filtración de agua  e...   \n",
            "277  solicitud 1 grietas y filtraciones en diferent...   \n",
            "278  solicitud 1 grieta en la parte superior fronta...   \n",
            "\n",
            "                                             key words  \n",
            "0    mal ,piso ,yeso ,plato ,pared ,segundo ,lava ,...  \n",
            "1                                     sala ,fuga ,tubo  \n",
            "2    habitación ,material ,estuco ,perforación ,arr...  \n",
            "3    habitación ,servicio ,segundo ,gotera ,agua ,e...  \n",
            "4         revisión ,vivienda ,eléctrico ,plafón ,corto  \n",
            "..                                                 ...  \n",
            "274  interno ,habitación ,entrada ,principal ,filtr...  \n",
            "275  habitación ,fachada ,principal ,gotera ,placa ...  \n",
            "276  tanto ,luz ,pared ,niño ,grave ,peligro ,probl...  \n",
            "277                    casa ,grieta ,parte ,filtración  \n",
            "278       frontal ,agua ,superior ,grieta ,parte ,casa  \n",
            "\n",
            "[279 rows x 13 columns]\n"
          ]
        }
      ]
    },
    {
      "cell_type": "markdown",
      "source": [
        "Block and house still need some work, need to erease the 0 at begin of the numbers and some data still have errors"
      ],
      "metadata": {
        "id": "4X4ltSXae4NS"
      }
    },
    {
      "cell_type": "code",
      "source": [
        "#dfp['house'] = dfp['house'].apply(lambda x:''.join(char for char in x if char.isdigit()))\n",
        "dfp['block'] = dfp['block'].apply(lambda x: x[1:] if x[0] == '0' else x)\n",
        "#dfp['block'] = dfp['block'].apply(lambda x: re.sub(''))\n",
        "\n"
      ],
      "metadata": {
        "id": "Srxk4MsHe3wZ"
      },
      "execution_count": 7,
      "outputs": []
    },
    {
      "cell_type": "code",
      "source": [
        "print(dfp['house'].tolist())\n",
        "print(dfp['block'].tolist())\n",
        "dfp.to_csv('/content/drive/MyDrive/posventas_procesado.csv')"
      ],
      "metadata": {
        "colab": {
          "base_uri": "https://localhost:8080/"
        },
        "id": "WJi33kfbvxpw",
        "outputId": "f27fc4ca-96eb-4355-e409-cf7194f1d608"
      },
      "execution_count": 8,
      "outputs": [
        {
          "output_type": "stream",
          "name": "stdout",
          "text": [
            "[32.0, 8.0, 8.0, 26.0, 8.0, 3.0, 5.0, 21.0, 17.0, 5.0, 34.0, 8.0, 1.0, 18.0, 1.0, 23.0, 26.0, 15.0, 23.0, 24.0, nan, 26.0, 34.0, 12.0, nan, 8.0, nan, nan, 9.0, 26.0, nan, 10.0, 24.0, 26.0, nan, 26.0, 26.0, 33.0, 1.0, 6.0, 17.0, 18.0, 7.0, 6.0, 24.0, 32.0, 7.0, 7.0, 30.0, 16.0, 18.0, 15.0, 30.0, 17.0, 18.0, 30.0, 1.0, nan, 16.0, 16.0, 4.0, nan, 17.0, 18.0, 29.0, 25.0, 9.0, 11.0, nan, 18.0, 1.0, 7.0, 2.0, 1.0, nan, 14.0, 13.0, 17.0, 8.0, 26.0, 17.0, 6.0, 17.0, 17.0, 25.0, nan, 10.0, 3.0, 13.0, 10.0, 10.0, 14.0, 1.0, 15.0, 1.0, 10.0, 4.0, 11.0, 1.0, 5.0, 15.0, 9.0, 16.0, 17.0, 32.0, 2.0, 8.0, 7.0, 18.0, 12.0, nan, 7.0, 7.0, 6.0, 7.0, 14.0, 4.0, 14.0, 10.0, 21.0, 18.0, 6.0, 6.0, 5.0, 2.0, 28.0, 11.0, 29.0, 5.0, 2.0, 6.0, 4.0, 24.0, 8.0, 29.0, 22.0, 6.0, 10.0, 25.0, 20.0, 22.0, 7.0, 3.0, 16.0, 14.0, 27.0, 14.0, 20.0, 24.0, 18.0, 21.0, 26.0, 22.0, 26.0, 30.0, 18.0, 6.0, 15.0, 9.0, 10.0, 29.0, 11.0, 26.0, 23.0, 6.0, 12.0, 6.0, 12.0, 25.0, 2.0, 13.0, 10.0, 21.0, 26.0, 23.0, 7.0, 18.0, 24.0, 13.0, 26.0, 6.0, 22.0, 2.0, nan, 11.0, nan, 6.0, 11.0, nan, 5.0, 3.0, 6.0, 2.0, nan, 16.0, 6.0, 7.0, 26.0, nan, 14.0, 7.0, 15.0, 25.0, 12.0, 12.0, 21.0, 17.0, 19.0, nan, 6.0, nan, 16.0, 13.0, nan, 3.0, nan, 13.0, 10.0, 23.0, 3.0, 18.0, 2.0, 2.0, 25.0, 18.0, 3.0, 17.0, 17.0, 23.0, 2.0, 3.0, 2.0, 9.0, 2.0, 15.0, 3.0, 8.0, 25.0, 2.0, 5.0, 3.0, 17.0, 7.0, 15.0, 1.0, 16.0, 26.0, 15.0, 15.0, 26.0, 14.0, 3.0, 25.0, 16.0, 16.0, 26.0, 24.0, 12.0, 24.0, 10.0, 26.0, 13.0, 10.0, 21.0, 11.0, 11.0, nan, 15.0, 8.0, 1.0, nan, 9.0, 23.0, nan, 7.0, 7.0, 10.0, 21.0, 22.0]\n",
            "['1', '1', '1', '1', '1', '1', 'o1', '2', '1', '10', 'c', 'a', 'c', 'c', 'c', 'a', 'a', 'c', '2', 'c', 'bsur', 'a', 'c', 'Necesario buscar en la base de datos', 'Necesario buscar en la base de datos', 'a', '2', '2', '2', 'a', 'Necesario buscar en la base de datos', 'a', 'c', 'a', 'Necesario buscar en la base de datos', 'a', 'a', 'c', 'c', 'b', 'dirección', 'b', 'a', 'b', 'c', 'c', 'a', 'a', 'c', 'asur', 'b', 'c', 'c', 'dirección', 'Necesario buscar en la base de datos', 'c', 'c', 'a', '6', '6', '5', '6', '1', '3', '6', '2', '5', '3', 'humedad', '3', '4', '5', '4', '3', '1', '3', '6', '1', '3', '3', '5', '3', '1', '2', 'romero', 'm1', '6', '3', '2', '6', '6', '1', '4', '1', '3', '5', '5', '3', 'Necesario buscar en la base de datos', '5', '6', '5', '6', '2', '6', '4', '4', '5', '6', '6', 'm1', '6sur', '3', '6', '1', '6', '5', '6', '1', '6', '5', '4', '1', '9', '4', '6', '3', '6', '9', '4', '5', '5', '1', '2', '6', '2', '5', '5', '2', '1', '2', '2', '4', '2', '5', '6', 'mz5', '6', '1', '3', '2', '2', '6', '6', '6', '1', '5', '5', '4', '1', '6', '3', '3', '1', '4', '5', '5', '5', '3', '2', 'Necesario buscar en la base de datos', '5', '1', '2', '3.', '2', '3', '1', '3', '2', '3', '2', '3', 'Necesario buscar en la base de datos', '5', 'Necesario buscar en la base de datos', '2', '3', '2', '3', '3', '2', 'Necesario buscar en la base de datos', '3casa14', '2', '2', '3', '3', '1', '1', '3', '1', '1', '3', '3', '1', '2', '3', '2', '2', '1', '2', '2', '3cass', '3', '3cass', '3', '3', '1', '3', '3', 'Necesario buscar en la base de datos', 'Necesario buscar en la base de datos', 'Necesario buscar en la base de datos', '3', '3', '2.', '2', '1', 'Necesario buscar en la base de datos', '3', 'Necesario buscar en la base de datos', '2', 'Necesario buscar en la base de datos', '1', '3', '2', '1', 'Necesario buscar en la base de datos', '2', '3', 'Necesario buscar en la base de datos', '3', '2', '1', '2', '2', '1', '3', '2', '3', '3', '3', '2', '2', 'dirección', '1', '3', '1', '1', '2', 'Necesario buscar en la base de datos', '1', '1', 'Necesario buscar en la base de datos', 'Necesario buscar en la base de datos', '1casa', '1', 'b', 'c', 'bsur', 'c', 'c', 'd', 'd', 'c', 'd', 'b', 'b']\n"
          ]
        }
      ]
    },
    {
      "cell_type": "code",
      "source": [
        "\n",
        "dfp2 = dfp.groupby('name')['house', 'block'].apply(lambda x: x.ffill().bfill())\n",
        "dfp.loc[:,['house', 'block']] = dfp2.loc[:,['house', 'block']]\n",
        "dfp.drop_duplicates(inplace=True)\n",
        "print(dfp)\n",
        "dfp.to_csv('atencion_procc_posventas.csv')"
      ],
      "metadata": {
        "colab": {
          "base_uri": "https://localhost:8080/"
        },
        "id": "9NJtaPVMLr0r",
        "outputId": "9b224107-48f6-4781-9745-d9587e469f43"
      },
      "execution_count": 28,
      "outputs": [
        {
          "output_type": "stream",
          "name": "stdout",
          "text": [
            "     Unnamed: 0  Unnamed: 0.1           Task ID  Created At Last Modified  \\\n",
            "0             0             0  1203859132730413  2023-01-30    2023-02-02   \n",
            "1             1             1  1203827119997540  2023-01-25    2023-02-02   \n",
            "2             2             2  1203823671025556  2023-01-24    2023-02-01   \n",
            "3             3             3  1203713756246383  2023-01-12    2023-01-23   \n",
            "4             4             4  1203695543348748  2023-01-10    2023-01-23   \n",
            "..          ...           ...               ...         ...           ...   \n",
            "274         274           277  1201002776765269  2021-09-16    2021-09-24   \n",
            "275         275           278  1200915414083089  2021-09-03    2021-09-17   \n",
            "276         276           279  1200830708641915  2021-08-21    2021-09-17   \n",
            "277         277           280  1200788935337311  2021-08-15    2021-08-26   \n",
            "278         278           281  1200788789910526  2021-08-15    2021-08-26   \n",
            "\n",
            "        project block  house                              name  \\\n",
            "0        cassia     1   32.0  hedlyn antonio castrillon garcía   \n",
            "1        cassia     1    8.0          maría isabel añez lemus    \n",
            "2        cassia     1    8.0           maría isabel añez lemus   \n",
            "3        cassia     1   26.0                 fernando jiménez    \n",
            "4        cassia     1    8.0                       maria lemus   \n",
            "..          ...   ...    ...                               ...   \n",
            "274  guayacanes     d    7.0     sergio andrés polanco giraldo   \n",
            "275  guayacanes     c    7.0   jorge eliecer rincones villazón   \n",
            "276  guayacanes     d   10.0      ledys yulieth manzano rincón   \n",
            "277  guayacanes     b   21.0                      gene rincón    \n",
            "278  guayacanes     b   22.0                      oscar gómez    \n",
            "\n",
            "                          email       phone  \\\n",
            "0       cas.trillon@hotmail.com  3135025994   \n",
            "1     marilemus0414@outlook.com  3128332281   \n",
            "2     marilemus0414@outlook.com  3128332281   \n",
            "3    elizabeth_10jr@hotmail.com  3135640424   \n",
            "4     marilemus0414@outlook.com  3128332281   \n",
            "..                          ...         ...   \n",
            "274    zpolanco-lds@hotmail.com  3176986828   \n",
            "275  jorge.rincones25@gmail.com  3006672667   \n",
            "276      ledismrincon@gmail.com  3046160857   \n",
            "277         gries07@hotmail.com  3114317786   \n",
            "278      l-ore-2604@hotmail.com  3132150656   \n",
            "\n",
            "                                       warranty issues  \\\n",
            "0    solicitud 1 el agua no sube al segundo piso   ...   \n",
            "1    solicitud 1 fuga en  el tubo que desciende  en...   \n",
            "2    solicitud 1 la puerta del cuarto de abajo tien...   \n",
            "3    solicitud 1 encendedor \" escalera\"  solicitud ...   \n",
            "4    solicitud 1 el plafón hizo corto, solicito rev...   \n",
            "..                                                 ...   \n",
            "274  solicitud 1 filtración de agua en la viga de l...   \n",
            "275  solicitud 1 gotera en el baño de la habitación...   \n",
            "276  solicitud 1 problemas de filtración de agua  e...   \n",
            "277  solicitud 1 grietas y filtraciones en diferent...   \n",
            "278  solicitud 1 grieta en la parte superior fronta...   \n",
            "\n",
            "                                             key words  \n",
            "0    mal ,piso ,yeso ,plato ,pared ,segundo ,lava ,...  \n",
            "1                                     sala ,fuga ,tubo  \n",
            "2    habitación ,material ,estuco ,perforación ,arr...  \n",
            "3    habitación ,servicio ,segundo ,gotera ,agua ,e...  \n",
            "4         revisión ,vivienda ,eléctrico ,plafón ,corto  \n",
            "..                                                 ...  \n",
            "274  interno ,habitación ,entrada ,principal ,filtr...  \n",
            "275  habitación ,fachada ,principal ,gotera ,placa ...  \n",
            "276  tanto ,luz ,pared ,niño ,grave ,peligro ,probl...  \n",
            "277                    casa ,grieta ,parte ,filtración  \n",
            "278       frontal ,agua ,superior ,grieta ,parte ,casa  \n",
            "\n",
            "[279 rows x 13 columns]\n"
          ]
        },
        {
          "output_type": "stream",
          "name": "stderr",
          "text": [
            "<ipython-input-28-1d709cc508f0>:1: FutureWarning: Indexing with multiple keys (implicitly converted to a tuple of keys) will be deprecated, use a list instead.\n",
            "  dfp2 = dfp.groupby('name')['house', 'block'].apply(lambda x: x.ffill().bfill())\n"
          ]
        }
      ]
    },
    {
      "cell_type": "code",
      "source": [
        "db = pd.read_csv('/content/drive/MyDrive/Ctvid/db_posventa.csv')\n",
        "db.sort_values('name', inplace=True)\n",
        "print(db)\n",
        "db.to_csv('/content/drive/MyDrive/Ctvid/db_posventa.csv')"
      ],
      "metadata": {
        "colab": {
          "base_uri": "https://localhost:8080/"
        },
        "id": "X9AcP-ENU7fZ",
        "outputId": "081ac90c-5435-4b03-be0e-88624befd20f"
      },
      "execution_count": 31,
      "outputs": [
        {
          "output_type": "stream",
          "name": "stdout",
          "text": [
            "     Unnamed: 0           Task ID  Created At Last Modified    project block  \\\n",
            "239         243  1201712665647044  2022-01-24    2022-01-27    armonía     2   \n",
            "253         257  1201610229126161  2022-01-02    2022-01-27    armonía     3   \n",
            "199         203  1202006846774044  2022-03-22    2022-07-18    armonía     3   \n",
            "200         204  1201960931271746  2022-03-13    2022-04-22    armonía     3   \n",
            "149         153  1202675201398351  2022-07-27    2022-11-09    armonía     6   \n",
            "..          ...               ...         ...           ...        ...   ...   \n",
            "13           16  1202295623989282  2022-05-17    2022-11-05  fortaleza     a   \n",
            "18           21  1202157862044855  2022-04-20    2022-05-03  fortaleza     a   \n",
            "32           35  1201536914335332  2021-12-19    2023-02-08  fortaleza     a   \n",
            "30           33  1201668542314793  2022-01-15    2022-01-19  fortaleza     a   \n",
            "33           36  1201453249574127  2021-12-01    2021-12-23  fortaleza     a   \n",
            "\n",
            "     house                          name                        email  \\\n",
            "239   15.0               adiana velaides  adiana.velaides@hotmail.com   \n",
            "253   12.0     adrian david cotes sierra       adrian.wak@outlook.com   \n",
            "199   12.0     adrian david cotes sierra       adrian.wak@outlook.com   \n",
            "200   12.0     adrian david cotes sierra       adrian.wak@outlook.com   \n",
            "149   26.0  adriana lucia marquez guerra   adri-lucia1990@hotmail.com   \n",
            "..     ...                           ...                          ...   \n",
            "13    26.0       yuseinis vega   herrera          yuseinnys@gmail.com   \n",
            "18    26.0         yuseinis vega herrera          yuseinnys@gmail.com   \n",
            "32    26.0        yuseinis vega herrera          yuseinnys@gmail.com    \n",
            "30    26.0        yuseinis vega herrera          yuseinnys@gmail.com    \n",
            "33    26.0        yuseinis vega herrera          yuseinnys@gmail.com    \n",
            "\n",
            "            phone                                    warranty issues  \\\n",
            "239  3.214454e+09  solicitud 1  no cuento con el servicio de agua...   \n",
            "253  3.104041e+09  solicitud 1 puerta del patio cambio de la puer...   \n",
            "199  3.104041e+09  solicitud 1 por tercera vez ocurre que cuando ...   \n",
            "200  3.104041e+09  solicitud 1 por tercera vez y después de 3 mes...   \n",
            "149  3.015698e+09  solicitud 1 goteras en habitación auxiliar.......   \n",
            "..            ...                                                ...   \n",
            "13   3.014428e+09  solicitud 1 solicito  respuesta   a    la  hum...   \n",
            "18   3.014428e+09                             solicitud 1 humedad      \n",
            "32   6.014428e+09  solicitud 1 señores contruvid  este es el terc...   \n",
            "30   3.014428e+09  solicitud 1 buenas  tardes  el día 14  de ener...   \n",
            "33   3.014428e+09  solicitud 1 filtración de agua por la ventana ...   \n",
            "\n",
            "                                             key words  \n",
            "239              servicio ,grifo ,agua ,exterior ,casa  \n",
            "253  habitación ,verde ,reportado ,ventada ,pared ,...  \n",
            "199  totalizador ,tercero ,casa ,mayor ,gabinete ,v...  \n",
            "200  mal ,vivienda ,patio ,vez ,entrega ,estado ,ca...  \n",
            "149               habitación ,gotera ,estuco ,auxiliar  \n",
            "..                                                 ...  \n",
            "13   vivienda ,adjunto ,imagen ,parte ,ventana ,hum...  \n",
            "18                                             humedad  \n",
            "32   señor ,calle ,tercero ,escalera ,casa ,lavador...  \n",
            "30   vivienda ,día ,preocupado ,piso ,sala ,daño ,d...  \n",
            "33          pared ,filtración ,agua ,escalera ,ventana  \n",
            "\n",
            "[275 rows x 12 columns]\n"
          ]
        }
      ]
    }
  ]
}